{
 "cells": [
  {
   "cell_type": "markdown",
   "metadata": {},
   "source": [
    "## Prima parte\n",
    "Implementare la DCT2 come spiegata a lezione in un ambiente open source a vostra scelta e confrontare i tempi di esecuzione con la DCT2 ottenuta usando la libreria dell’ambiente\n",
    "utilizzato, che si presuppone essere nella versione fast (FFT). In particolare, procurarsi array quadrati N×N con N crescente e rappresentare su un grafico in scala semilogaritmica (le ascisse saranno le pure quantità scalari mentre le ordinate il logaritmo) al variare di N il tempo impiegato ad eseguire la DCT2 col vostro algoritmo fatto in casa e con l’algoritmo della libreria. I tempi dovrebbero essere proporzionali a N<sup>3</sup> per la DCT2 fatta in casa e a N<sup>2</sup> per la versione fast (più precisamente a N<sup>2</sup> log(N)). I tempi ottenuti con la versione"
   ]
  },
  {
   "cell_type": "code",
   "execution_count": null,
   "metadata": {},
   "outputs": [],
   "source": [
    "import numpy as np\n",
    "import time\n",
    "import matplotlib.pyplot as plt\n",
    "from functions.dct2 import dct2_home_made\n",
    "from scipy.fft import dctn"
   ]
  },
  {
   "cell_type": "code",
   "execution_count": null,
   "metadata": {},
   "outputs": [],
   "source": [
    "# FFT-2 transform using library\n",
    "def fft2_scipy(x):\n",
    "    X = dctn(x, norm='ortho')\n",
    "    return X\n",
    "\n",
    "\n",
    "# Function to measure execution time\n",
    "def measure_time(func, x):\n",
    "    start_time = time.perf_counter()\n",
    "    func(x)\n",
    "    end_time = time.perf_counter() - start_time\n",
    "    return end_time"
   ]
  },
  {
   "cell_type": "code",
   "execution_count": null,
   "metadata": {},
   "outputs": [],
   "source": [
    "# Sizes of matrices\n",
    "sizes = np.array([64, 128, 256, 512, 1024, 2048, 4096], dtype=np.int64)\n",
    "\n",
    "# Lists to store execution times\n",
    "times_fft2 = []\n",
    "times_dct2_home_made = []\n",
    "\n",
    "for size in sizes:\n",
    "    x = np.random.uniform(low=0.0, high=255.0, size=(size, size))\n",
    "    \n",
    "    # Measure time for home-made DCT2\n",
    "    time_dct2_home_made = measure_time(dct2_home_made, x)\n",
    "    times_dct2_home_made.append(time_dct2_home_made)\n",
    "\n",
    "    time_fft2 = measure_time(fft2_scipy, x)\n",
    "    times_fft2.append(time_fft2)\n",
    "\n",
    "# Plotting the results\n",
    "plt.figure(figsize=(10, 6))\n",
    "plt.plot(sizes, times_fft2, label='Library FFT2')\n",
    "plt.plot(sizes, times_dct2_home_made, label='Personal DCT2')\n",
    "plt.plot(sizes, (10**-6)* np.power(sizes, 3, dtype=np.int64), label=r'$y = N^3$', linestyle='--')\n",
    "plt.plot(sizes, (10**-6)* np.power(sizes, 2, dtype=np.int64)* np.log(sizes), label=r'$y = N^2 \\dot \\log N$', linestyle='--')\n",
    "plt.xscale('log')\n",
    "plt.yscale('log')\n",
    "\n",
    "plt.xticks(sizes, sizes)\n",
    "\n",
    "plt.xlabel('Matrix size (N)')\n",
    "plt.ylabel('Time (seconds)')\n",
    "plt.title('DCT-2 Execution Time Comparison')\n",
    "plt.legend()\n",
    "plt.grid(True, which=\"both\", ls=\"--\")\n",
    "plt.show()"
   ]
  },
  {
   "cell_type": "code",
   "execution_count": null,
   "metadata": {},
   "outputs": [],
   "source": [
    "# # Test matrix\n",
    "# array = np.array([\n",
    "#     [231, 32, 233, 161, 24, 71, 140, 245],\n",
    "#     [247, 40, 248, 245, 124, 204, 36, 107],\n",
    "#     [234, 202, 245, 167, 9, 217, 239, 173],\n",
    "#     [193, 190, 100, 167, 43, 180, 8, 70],\n",
    "#     [11, 24, 210, 177, 81, 243, 8, 112],\n",
    "#     [97, 195, 203, 47, 125, 114, 165, 181],\n",
    "#     [193, 70, 174, 167, 41, 30, 127, 245],\n",
    "#     [87, 149, 57, 192, 65, 129, 178, 228]\n",
    "# ])\n",
    "# print(dct2_home_made(array))\n",
    "# print(\"*****\")\n",
    "# print(fft2_scipy(array))"
   ]
  },
  {
   "cell_type": "code",
   "execution_count": null,
   "metadata": {},
   "outputs": [],
   "source": [
    "array = np.random.rand(200, 200)\n",
    "print(dct2_home_made(array))\n",
    "print(fft2_scipy(array))"
   ]
  }
 ],
 "metadata": {
  "kernelspec": {
   "display_name": "base",
   "language": "python",
   "name": "python3"
  },
  "language_info": {
   "codemirror_mode": {
    "name": "ipython",
    "version": 3
   },
   "file_extension": ".py",
   "mimetype": "text/x-python",
   "name": "python",
   "nbconvert_exporter": "python",
   "pygments_lexer": "ipython3",
   "version": "3.11.5"
  }
 },
 "nbformat": 4,
 "nbformat_minor": 2
}
